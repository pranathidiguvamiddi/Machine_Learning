{
 "cells": [
  {
   "cell_type": "code",
   "execution_count": 1,
   "id": "e4b31f60-5f22-4695-b4cd-13ba01d98890",
   "metadata": {},
   "outputs": [],
   "source": [
    "import numpy as np\n",
    "import pandas as pd\n",
    "import matplotlib.pyplot as plt"
   ]
  },
  {
   "cell_type": "code",
   "execution_count": 4,
   "id": "bc7a82a6-be05-49c2-b644-d1b35bc4ad4f",
   "metadata": {},
   "outputs": [],
   "source": [
    "data=pd.read_csv(\"E:\\data_sets\\ice_cream_data.csv\")"
   ]
  },
  {
   "cell_type": "code",
   "execution_count": 5,
   "id": "b66e442d-3736-4748-9b3f-307f96bfaf16",
   "metadata": {},
   "outputs": [
    {
     "data": {
      "text/html": [
       "<div>\n",
       "<style scoped>\n",
       "    .dataframe tbody tr th:only-of-type {\n",
       "        vertical-align: middle;\n",
       "    }\n",
       "\n",
       "    .dataframe tbody tr th {\n",
       "        vertical-align: top;\n",
       "    }\n",
       "\n",
       "    .dataframe thead th {\n",
       "        text-align: right;\n",
       "    }\n",
       "</style>\n",
       "<table border=\"1\" class=\"dataframe\">\n",
       "  <thead>\n",
       "    <tr style=\"text-align: right;\">\n",
       "      <th></th>\n",
       "      <th>Temperature (°C)</th>\n",
       "      <th>Ice Cream Sales (units)</th>\n",
       "    </tr>\n",
       "  </thead>\n",
       "  <tbody>\n",
       "    <tr>\n",
       "      <th>0</th>\n",
       "      <td>-4.662263</td>\n",
       "      <td>41.842986</td>\n",
       "    </tr>\n",
       "    <tr>\n",
       "      <th>1</th>\n",
       "      <td>-4.316559</td>\n",
       "      <td>34.661120</td>\n",
       "    </tr>\n",
       "    <tr>\n",
       "      <th>2</th>\n",
       "      <td>-4.213985</td>\n",
       "      <td>39.383001</td>\n",
       "    </tr>\n",
       "    <tr>\n",
       "      <th>3</th>\n",
       "      <td>-3.949661</td>\n",
       "      <td>37.539845</td>\n",
       "    </tr>\n",
       "    <tr>\n",
       "      <th>4</th>\n",
       "      <td>-3.578554</td>\n",
       "      <td>32.284531</td>\n",
       "    </tr>\n",
       "  </tbody>\n",
       "</table>\n",
       "</div>"
      ],
      "text/plain": [
       "   Temperature (°C)  Ice Cream Sales (units)\n",
       "0         -4.662263                41.842986\n",
       "1         -4.316559                34.661120\n",
       "2         -4.213985                39.383001\n",
       "3         -3.949661                37.539845\n",
       "4         -3.578554                32.284531"
      ]
     },
     "execution_count": 5,
     "metadata": {},
     "output_type": "execute_result"
    }
   ],
   "source": [
    "data.head()\n"
   ]
  },
  {
   "cell_type": "code",
   "execution_count": 6,
   "id": "5b125e55-99df-4a6e-8fbf-a92c04c6115e",
   "metadata": {},
   "outputs": [
    {
     "data": {
      "text/html": [
       "<div>\n",
       "<style scoped>\n",
       "    .dataframe tbody tr th:only-of-type {\n",
       "        vertical-align: middle;\n",
       "    }\n",
       "\n",
       "    .dataframe tbody tr th {\n",
       "        vertical-align: top;\n",
       "    }\n",
       "\n",
       "    .dataframe thead th {\n",
       "        text-align: right;\n",
       "    }\n",
       "</style>\n",
       "<table border=\"1\" class=\"dataframe\">\n",
       "  <thead>\n",
       "    <tr style=\"text-align: right;\">\n",
       "      <th></th>\n",
       "      <th>Temperature (°C)</th>\n",
       "      <th>Ice Cream Sales (units)</th>\n",
       "    </tr>\n",
       "  </thead>\n",
       "  <tbody>\n",
       "    <tr>\n",
       "      <th>count</th>\n",
       "      <td>49.000000</td>\n",
       "      <td>49.000000</td>\n",
       "    </tr>\n",
       "    <tr>\n",
       "      <th>mean</th>\n",
       "      <td>0.271755</td>\n",
       "      <td>15.905308</td>\n",
       "    </tr>\n",
       "    <tr>\n",
       "      <th>std</th>\n",
       "      <td>2.697672</td>\n",
       "      <td>12.264682</td>\n",
       "    </tr>\n",
       "    <tr>\n",
       "      <th>min</th>\n",
       "      <td>-4.662263</td>\n",
       "      <td>0.328626</td>\n",
       "    </tr>\n",
       "    <tr>\n",
       "      <th>25%</th>\n",
       "      <td>-2.111870</td>\n",
       "      <td>4.857988</td>\n",
       "    </tr>\n",
       "    <tr>\n",
       "      <th>50%</th>\n",
       "      <td>0.688781</td>\n",
       "      <td>12.615181</td>\n",
       "    </tr>\n",
       "    <tr>\n",
       "      <th>75%</th>\n",
       "      <td>2.784836</td>\n",
       "      <td>25.142082</td>\n",
       "    </tr>\n",
       "    <tr>\n",
       "      <th>max</th>\n",
       "      <td>4.899032</td>\n",
       "      <td>41.842986</td>\n",
       "    </tr>\n",
       "  </tbody>\n",
       "</table>\n",
       "</div>"
      ],
      "text/plain": [
       "       Temperature (°C)  Ice Cream Sales (units)\n",
       "count         49.000000                49.000000\n",
       "mean           0.271755                15.905308\n",
       "std            2.697672                12.264682\n",
       "min           -4.662263                 0.328626\n",
       "25%           -2.111870                 4.857988\n",
       "50%            0.688781                12.615181\n",
       "75%            2.784836                25.142082\n",
       "max            4.899032                41.842986"
      ]
     },
     "execution_count": 6,
     "metadata": {},
     "output_type": "execute_result"
    }
   ],
   "source": [
    "data.describe()\n"
   ]
  },
  {
   "cell_type": "code",
   "execution_count": 7,
   "id": "a24f2a6e-efe3-454e-9041-9f395c1c88cd",
   "metadata": {},
   "outputs": [],
   "source": [
    "x=data.iloc[:,0:1]\n"
   ]
  },
  {
   "cell_type": "code",
   "execution_count": 8,
   "id": "1b48b6ae-ec58-4ed8-9598-5838b4135ef6",
   "metadata": {},
   "outputs": [],
   "source": [
    "y=data.iloc[:,1:2]\n"
   ]
  },
  {
   "cell_type": "code",
   "execution_count": 9,
   "id": "d98fc220-60cd-47c7-89a1-1440ba17a58a",
   "metadata": {},
   "outputs": [
    {
     "data": {
      "image/png": "[encoded data removed]",
      "text/plain": [
       "<Figure size 640x480 with 1 Axes>"
      ]
     },
     "metadata": {},
     "output_type": "display_data"
    }
   ],
   "source": [
    "plt.scatter(x,y);\n",
    "plt.xlabel(\"x_axises\");\n",
    "plt.ylabel(\"y_axises\");\n",
    "plt.title(\"Graph\");"
   ]
  },
  {
   "cell_type": "code",
   "execution_count": 10,
   "id": "31844187-4e96-4164-855d-fbcacaa3d0bb",
   "metadata": {},
   "outputs": [],
   "source": [
    "from sklearn.model_selection import train_test_split\n"
   ]
  },
  {
   "cell_type": "code",
   "execution_count": 11,
   "id": "bc1c01fc-4f6a-4634-9c37-2bf5dfc4030d",
   "metadata": {},
   "outputs": [],
   "source": [
    "x_train,x_test,y_train,y_test=train_test_split(x,y,test_size=0.2,random_state=42);\n"
   ]
  },
  {
   "cell_type": "code",
   "execution_count": 12,
   "id": "ca4c44b3-e825-4c11-bc2b-89d0a0d9ec36",
   "metadata": {},
   "outputs": [
    {
     "data": {
      "text/plain": [
       "True"
      ]
     },
     "execution_count": 12,
     "metadata": {},
     "output_type": "execute_result"
    }
   ],
   "source": [
    "x_train.shape==y_train.shape\n"
   ]
  },
  {
   "cell_type": "code",
   "execution_count": 13,
   "id": "36aa28cc-5634-43d8-94b0-7ca4cb01aeb8",
   "metadata": {},
   "outputs": [
    {
     "data": {
      "text/plain": [
       "True"
      ]
     },
     "execution_count": 13,
     "metadata": {},
     "output_type": "execute_result"
    }
   ],
   "source": [
    "x_test.shape==y_test.shape\n"
   ]
  },
  {
   "cell_type": "code",
   "execution_count": 14,
   "id": "07536b0a-a6e7-4c07-8dac-ccd707b19208",
   "metadata": {},
   "outputs": [],
   "source": [
    "from sklearn.linear_model import LinearRegression\n"
   ]
  },
  {
   "cell_type": "code",
   "execution_count": 15,
   "id": "f4b6a14d-4f33-43a2-bff8-565de33e06ad",
   "metadata": {},
   "outputs": [],
   "source": [
    "linear_Reg=LinearRegression()\n"
   ]
  },
  {
   "cell_type": "code",
   "execution_count": 16,
   "id": "84dbdae0-be60-4dbf-80e5-866358423359",
   "metadata": {},
   "outputs": [],
   "source": [
    "linear_Reg.fit(x_train,y_train);\n"
   ]
  },
  {
   "cell_type": "code",
   "execution_count": 17,
   "id": "eacfba3b-9367-4be8-bbc5-a6bdfbf34e31",
   "metadata": {},
   "outputs": [],
   "source": [
    "y_pred=linear_Reg.predict(x_test);\n"
   ]
  },
  {
   "cell_type": "code",
   "execution_count": 18,
   "id": "22cf10c3-47e5-471b-b833-913302e8205a",
   "metadata": {},
   "outputs": [
    {
     "name": "stdout",
     "output_type": "stream",
     "text": [
      "[[19.2247831 ]\n",
      " [12.89218952]\n",
      " [12.39975758]\n",
      " [12.99914196]\n",
      " [18.0259032 ]\n",
      " [15.96490086]\n",
      " [16.13605851]\n",
      " [16.34394177]\n",
      " [15.0173946 ]\n",
      " [17.3107825 ]]\n"
     ]
    }
   ],
   "source": [
    "print(y_pred);\n"
   ]
  },
  {
   "cell_type": "code",
   "execution_count": 19,
   "id": "687d3477-22f7-439a-8c45-dc4bd4976bed",
   "metadata": {},
   "outputs": [
    {
     "data": {
      "text/plain": [
       "array([[-1.14658686]])"
      ]
     },
     "execution_count": 19,
     "metadata": {},
     "output_type": "execute_result"
    }
   ],
   "source": [
    "linear_Reg.coef_\n"
   ]
  },
  {
   "cell_type": "code",
   "execution_count": 20,
   "id": "194a51e5-8aa7-4538-8219-2e1e0380e297",
   "metadata": {},
   "outputs": [
    {
     "data": {
      "text/plain": [
       "array([17.13921313])"
      ]
     },
     "execution_count": 20,
     "metadata": {},
     "output_type": "execute_result"
    }
   ],
   "source": [
    "linear_Reg.intercept_\n"
   ]
  },
  {
   "cell_type": "code",
   "execution_count": 21,
   "id": "7e0e8e1e-b758-47d0-bdb9-40ea1b1d5e55",
   "metadata": {},
   "outputs": [],
   "source": [
    "from sklearn.metrics import r2_score\n"
   ]
  },
  {
   "cell_type": "code",
   "execution_count": 22,
   "id": "1f8221e9-188f-4799-bd90-4f6e4db9af9e",
   "metadata": {},
   "outputs": [],
   "source": [
    "r2=r2_score(y_test,y_pred);\n"
   ]
  },
  {
   "cell_type": "code",
   "execution_count": 23,
   "id": "c7e587f4-21e3-4848-9519-80c18eb8f94a",
   "metadata": {},
   "outputs": [
    {
     "name": "stdout",
     "output_type": "stream",
     "text": [
      "-0.5751270190188225\n"
     ]
    }
   ],
   "source": [
    "print(r2);\n"
   ]
  },
  {
   "cell_type": "code",
   "execution_count": 24,
   "id": "c5594d25-9684-4060-8206-3c7b5ca1a2a8",
   "metadata": {},
   "outputs": [
    {
     "data": {
      "image/png": "[encoded data removed]",
      "text/plain": [
       "<Figure size 640x480 with 1 Axes>"
      ]
     },
     "metadata": {},
     "output_type": "display_data"
    }
   ],
   "source": [
    "plt.scatter(x_test,y_test,color=\"b\");\n",
    "plt.plot(x_test,linear_Reg.predict(x_test),color=\"r\",lw=3);\n",
    "plt.scatter(x_train,y_train,color=\"orange\");\n",
    "plt.plot(x_train,linear_Reg.predict(x_train),color=\"pink\");\n",
    "plt.xlabel(\"x_axises\");\n",
    "plt.ylabel(\"y_axises\");\n",
    "plt.title(\"Graph\");"
   ]
  },
  {
   "cell_type": "code",
   "execution_count": 25,
   "id": "ff573061-b439-4024-b9fa-938a2920a323",
   "metadata": {},
   "outputs": [],
   "source": [
    "from sklearn.preprocessing import PolynomialFeatures\n"
   ]
  },
  {
   "cell_type": "code",
   "execution_count": 26,
   "id": "8605f31f-a19f-4475-bfc7-cfaacf0f5a74",
   "metadata": {},
   "outputs": [],
   "source": [
    "poly_Reg= PolynomialFeatures(degree=2);\n"
   ]
  },
  {
   "cell_type": "code",
   "execution_count": 27,
   "id": "39e7f20f-8666-4969-a111-5bad0dda0201",
   "metadata": {},
   "outputs": [],
   "source": [
    "x_train_poly=poly_Reg.fit_transform(x_train);\n"
   ]
  },
  {
   "cell_type": "code",
   "execution_count": 28,
   "id": "106ae422-7034-4d0b-aeaa-26e158f5f7b8",
   "metadata": {},
   "outputs": [
    {
     "data": {
      "text/plain": [
       "array([[ 1.        , -2.11186969,  4.45999359],\n",
       "       [ 1.        , -3.57855372, 12.8060467 ],\n",
       "       [ 1.        ,  2.31859124,  5.37586534],\n",
       "       [ 1.        , -2.67246083,  7.14204687],\n",
       "       [ 1.        , -3.94966109, 15.59982272]])"
      ]
     },
     "execution_count": 28,
     "metadata": {},
     "output_type": "execute_result"
    }
   ],
   "source": [
    "x_train_poly[:5]\n"
   ]
  },
  {
   "cell_type": "code",
   "execution_count": 29,
   "id": "73de6162-06e1-4551-a471-abf00c157639",
   "metadata": {},
   "outputs": [],
   "source": [
    "x_test_poly=poly_Reg.transform(x_test);\n"
   ]
  },
  {
   "cell_type": "code",
   "execution_count": 30,
   "id": "f2d117e5-162a-4a50-890a-8d81371420eb",
   "metadata": {},
   "outputs": [
    {
     "data": {
      "text/plain": [
       "array([[ 1.        , -1.81893761,  3.30853403],\n",
       "       [ 1.        ,  3.70405744, 13.72004151],\n",
       "       [ 1.        ,  4.13353379, 17.08610158],\n",
       "       [ 1.        ,  3.61077848, 13.03772121],\n",
       "       [ 1.        , -0.77333004,  0.59803936]])"
      ]
     },
     "execution_count": 30,
     "metadata": {},
     "output_type": "execute_result"
    }
   ],
   "source": [
    "x_test_poly[:5]\n"
   ]
  },
  {
   "cell_type": "code",
   "execution_count": 31,
   "id": "55b96f46-9e98-4c5b-8437-440a56975828",
   "metadata": {},
   "outputs": [],
   "source": [
    "linear_Reg.fit(x_train_poly,y_train);\n"
   ]
  },
  {
   "cell_type": "code",
   "execution_count": 32,
   "id": "ec8b020f-31ba-402d-b3ec-cdf26a970e9a",
   "metadata": {},
   "outputs": [],
   "source": [
    "y_pred_poly=linear_Reg.predict(x_test_poly);\n"
   ]
  },
  {
   "cell_type": "code",
   "execution_count": 33,
   "id": "596cec71-75e0-4166-b805-59d6bcd518f8",
   "metadata": {},
   "outputs": [
    {
     "name": "stdout",
     "output_type": "stream",
     "text": [
      "[[10.24499852]\n",
      " [25.82807714]\n",
      " [31.8241041 ]\n",
      " [24.61704203]\n",
      " [ 4.43380256]\n",
      " [ 4.00785672]\n",
      " [ 3.58277491]\n",
      " [ 3.17865087]\n",
      " [ 7.86990452]\n",
      " [ 2.91591368]]\n"
     ]
    }
   ],
   "source": [
    "print(y_pred_poly);\n"
   ]
  },
  {
   "cell_type": "code",
   "execution_count": 34,
   "id": "379262b4-1eac-4494-a8fe-39354ea8d894",
   "metadata": {},
   "outputs": [
    {
     "data": {
      "text/plain": [
       "array([[ 0.        , -0.70641926,  1.87145125]])"
      ]
     },
     "execution_count": 34,
     "metadata": {},
     "output_type": "execute_result"
    }
   ],
   "source": [
    "linear_Reg.coef_\n"
   ]
  },
  {
   "cell_type": "code",
   "execution_count": 35,
   "id": "be6fc391-d7af-447b-8747-01c978febfcb",
   "metadata": {},
   "outputs": [
    {
     "data": {
      "text/plain": [
       "array([2.76830583])"
      ]
     },
     "execution_count": 35,
     "metadata": {},
     "output_type": "execute_result"
    }
   ],
   "source": [
    "linear_Reg.intercept_\n"
   ]
  },
  {
   "cell_type": "code",
   "execution_count": 36,
   "id": "448667a2-b547-4790-a4ef-920eb18b7e48",
   "metadata": {},
   "outputs": [],
   "source": [
    "r2_poly=r2_score(y_test,y_pred_poly);\n"
   ]
  },
  {
   "cell_type": "code",
   "execution_count": 37,
   "id": "ffc04653-a9a6-4556-a21e-d9d77e536bc9",
   "metadata": {},
   "outputs": [
    {
     "name": "stdout",
     "output_type": "stream",
     "text": [
      "0.8430551371938841\n"
     ]
    }
   ],
   "source": [
    "print(r2_poly);\n"
   ]
  },
  {
   "cell_type": "code",
   "execution_count": 38,
   "id": "76ddf4a8-f37c-4b58-904a-1f3fe09cd607",
   "metadata": {},
   "outputs": [
    {
     "data": {
      "image/png": "[encoded data removed]",
      "text/plain": [
       "<Figure size 640x480 with 1 Axes>"
      ]
     },
     "metadata": {},
     "output_type": "display_data"
    }
   ],
   "source": [
    "plt.scatter(x_train,y_train,color=\"b\");\n",
    "plt.plot(x,linear_Reg.predict(poly_Reg.fit_transform(x)),color=\"orange\");"
   ]
  },
  {
   "cell_type": "code",
   "execution_count": 39,
   "id": "32ca8a2a-6a53-4830-b9fa-e0359ba91c87",
   "metadata": {},
   "outputs": [],
   "source": [
    "from sklearn.preprocessing import PolynomialFeatures\n"
   ]
  },
  {
   "cell_type": "code",
   "execution_count": 40,
   "id": "25d3c271-f93d-4b53-b1ae-4a04e6cba7ff",
   "metadata": {},
   "outputs": [],
   "source": [
    "poly_Reg3=PolynomialFeatures(degree=3,include_bias=False);\n"
   ]
  },
  {
   "cell_type": "code",
   "execution_count": 41,
   "id": "a37bae21-f965-4050-a190-dbd155d8a453",
   "metadata": {},
   "outputs": [],
   "source": [
    "x_train_poly3=poly_Reg3.fit_transform(x_train)\n"
   ]
  },
  {
   "cell_type": "code",
   "execution_count": 42,
   "id": "b74fe6fe-e7a0-442d-b0b9-38f75b2b6458",
   "metadata": {},
   "outputs": [
    {
     "name": "stdout",
     "output_type": "stream",
     "text": [
      "[[ -2.11186969   4.45999359  -9.41892528]\n",
      " [ -3.57855372  12.8060467  -45.82712601]\n",
      " [  2.31859124   5.37586534  12.46443427]\n",
      " [ -2.67246083   7.14204687 -19.08684049]\n",
      " [ -3.94966109  15.59982272 -61.61401279]]\n"
     ]
    }
   ],
   "source": [
    "print(x_train_poly3[:5]);\n"
   ]
  },
  {
   "cell_type": "code",
   "execution_count": 43,
   "id": "1c538678-2e64-4f01-9649-235a44247da6",
   "metadata": {},
   "outputs": [],
   "source": [
    "x_test_poly3=poly_Reg3.transform(x_test)\n"
   ]
  },
  {
   "cell_type": "code",
   "execution_count": 44,
   "id": "5deb5eeb-1f30-41fc-97db-2de52c119fe8",
   "metadata": {},
   "outputs": [
    {
     "name": "stdout",
     "output_type": "stream",
     "text": [
      "[[-1.81893761  3.30853403 -6.01801697]\n",
      " [ 3.70405744 13.72004151 50.8198218 ]\n",
      " [ 4.13353379 17.08610158 70.62597819]\n",
      " [ 3.61077848 13.03772121 47.07632316]\n",
      " [-0.77333004  0.59803936 -0.4624818 ]]\n"
     ]
    }
   ],
   "source": [
    "print(x_test_poly3[:5]);\n"
   ]
  },
  {
   "cell_type": "code",
   "execution_count": 45,
   "id": "fbbc8758-0893-4507-85a8-38abef1944d5",
   "metadata": {},
   "outputs": [],
   "source": [
    "poly_Reg3.fit(x_train_poly3,y_train);\n"
   ]
  },
  {
   "cell_type": "code",
   "execution_count": 46,
   "id": "82a06c1b-d698-4936-b49a-cca69bc566fa",
   "metadata": {},
   "outputs": [],
   "source": [
    "y_pred_poly3=linear_Reg.predict(x_test_poly3);\n"
   ]
  },
  {
   "cell_type": "code",
   "execution_count": 47,
   "id": "48b044a8-e348-4ef2-b22c-3867958b536f",
   "metadata": {},
   "outputs": [
    {
     "name": "stdout",
     "output_type": "stream",
     "text": [
      "[[-10.83133171]\n",
      " [ 88.18302328]\n",
      " [122.87142974]\n",
      " [ 81.65925227]\n",
      " [  1.48032717]\n",
      " [  4.03783007]\n",
      " [  3.48088893]\n",
      " [  3.05292068]\n",
      " [ 12.20907911]\n",
      " [  2.74621855]]\n"
     ]
    }
   ],
   "source": [
    "print(y_pred_poly3);\n"
   ]
  },
  {
   "cell_type": "code",
   "execution_count": 48,
   "id": "f123a226-7517-4a37-af66-4601cd75e301",
   "metadata": {},
   "outputs": [
    {
     "name": "stdout",
     "output_type": "stream",
     "text": [
      "[[10.24499852]\n",
      " [25.82807714]\n",
      " [31.8241041 ]\n",
      " [24.61704203]\n",
      " [ 4.43380256]\n",
      " [ 4.00785672]\n",
      " [ 3.58277491]\n",
      " [ 3.17865087]\n",
      " [ 7.86990452]\n",
      " [ 2.91591368]]\n"
     ]
    }
   ],
   "source": [
    "print(y_pred_poly);\n"
   ]
  },
  {
   "cell_type": "code",
   "execution_count": 49,
   "id": "f08b02a5-9c02-4b4c-92a6-768384624a02",
   "metadata": {},
   "outputs": [
    {
     "name": "stdout",
     "output_type": "stream",
     "text": [
      "[[ 2.10763302e+01]\n",
      " [-6.23549461e+01]\n",
      " [-9.10473256e+01]\n",
      " [-5.70422102e+01]\n",
      " [ 2.95347540e+00]\n",
      " [-2.99733492e-02]\n",
      " [ 1.01885986e-01]\n",
      " [ 1.25730182e-01]\n",
      " [-4.33917459e+00]\n",
      " [ 1.69695137e-01]]\n"
     ]
    }
   ],
   "source": [
    "print(y_pred_poly-y_pred_poly3);\n"
   ]
  },
  {
   "cell_type": "code",
   "execution_count": 50,
   "id": "2d358aea-b550-4d1e-9e27-cd84d37aae96",
   "metadata": {},
   "outputs": [
    {
     "data": {
      "image/png": "[encoded data removed]",
      "text/plain": [
       "<Figure size 640x480 with 1 Axes>"
      ]
     },
     "metadata": {},
     "output_type": "display_data"
    }
   ],
   "source": [
    "plt.scatter(x_train,y_train,color=\"b\");\n",
    "plt.plot(x,linear_Reg.predict(poly_Reg3.fit_transform(x)),color=\"orange\");"
   ]
  },
  {
   "cell_type": "code",
   "execution_count": 51,
   "id": "98b0da5c-6d76-475a-8b14-2a2027cf32b5",
   "metadata": {},
   "outputs": [
    {
     "name": "stdout",
     "output_type": "stream",
     "text": [
      "-17.30673300094711\n"
     ]
    }
   ],
   "source": [
    "r3_poly=r2_score(y_test,y_pred_poly3);\n",
    "print(r3_poly);\n",
    "\n"
   ]
  },
  {
   "cell_type": "code",
   "execution_count": 52,
   "id": "afa4887c-5c82-45a4-a583-304417740a9c",
   "metadata": {},
   "outputs": [
    {
     "name": "stdout",
     "output_type": "stream",
     "text": [
      "0.8430551371938841\n"
     ]
    }
   ],
   "source": [
    "r2_poly=r2_score(y_test,y_pred_poly);\n",
    "print(r2_poly);\n"
   ]
  },
  {
   "cell_type": "code",
   "execution_count": 53,
   "id": "c6aef611-a4d7-4950-85da-28a2d93530e8",
   "metadata": {},
   "outputs": [
    {
     "name": "stdout",
     "output_type": "stream",
     "text": [
      "-18.14978813814099\n"
     ]
    }
   ],
   "source": [
    "print(r3_poly-r2_poly);\n"
   ]
  },
  {
   "cell_type": "code",
   "execution_count": null,
   "id": "42556434-4e4a-43aa-b059-90ce4a664cf2",
   "metadata": {},
   "outputs": [],
   "source": []
  }
 ],
 "metadata": {
  "kernelspec": {
   "display_name": "Python 3 (ipykernel)",
   "language": "python",
   "name": "python3"
  },
  "language_info": {
   "codemirror_mode": {
    "name": "ipython",
    "version": 3
   },
   "file_extension": ".py",
   "mimetype": "text/x-python",
   "name": "python",
   "nbconvert_exporter": "python",
   "pygments_lexer": "ipython3",
   "version": "3.11.7"
  }
 },
 "nbformat": 4,
 "nbformat_minor": 5
}
